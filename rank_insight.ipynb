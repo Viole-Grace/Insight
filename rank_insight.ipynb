{
 "cells": [
  {
   "cell_type": "code",
   "execution_count": 1,
   "metadata": {},
   "outputs": [],
   "source": [
    "import io\n",
    "import itertools\n",
    "import networkx as nx\n",
    "import nltk\n",
    "import editdistance"
   ]
  },
  {
   "cell_type": "code",
   "execution_count": 3,
   "metadata": {},
   "outputs": [],
   "source": [
    "def setup_envt():\n",
    "    nltk.download('punkt')\n",
    "    nltk.download('averaged perceptron tagger')\n",
    "    print \"Download complete\""
   ]
  },
  {
   "cell_type": "code",
   "execution_count": 4,
   "metadata": {},
   "outputs": [],
   "source": [
    "def filter_tags(tagged, tags=['NN','JJ','NNP']):\n",
    "    filtered=[]\n",
    "    for item in tagged:\n",
    "        if item[1] in tags:\n",
    "            filtered.append(item)\n",
    "    print \"All tokens tagged.\"\n",
    "    return filtered\n",
    "    "
   ]
  },
  {
   "cell_type": "code",
   "execution_count": null,
   "metadata": {},
   "outputs": [],
   "source": [
    "def normalized(tagged):\n",
    "    norm=[]\n",
    "    for item in tagged:\n",
    "        norm.append(item[0].replace('.',''))"
   ]
  }
 ],
 "metadata": {
  "kernelspec": {
   "display_name": "Python 2",
   "language": "python",
   "name": "python2"
  },
  "language_info": {
   "codemirror_mode": {
    "name": "ipython",
    "version": 2
   },
   "file_extension": ".py",
   "mimetype": "text/x-python",
   "name": "python",
   "nbconvert_exporter": "python",
   "pygments_lexer": "ipython2",
   "version": "2.7.15rc1"
  }
 },
 "nbformat": 4,
 "nbformat_minor": 2
}
